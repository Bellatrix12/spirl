{
 "cells": [
  {
   "cell_type": "markdown",
   "metadata": {},
   "source": [
    "# Syntax and Expressions\n",
    "\n",
    "Programming languages are made up of **syntax** and **expressions**.\n",
    "\n",
    "**Syntax** is the *vocabulary and grammar* of the language. These are the specific words, symbols and rules for how to combine them to convey your intent to the computer.\n",
    "\n",
    "**Expressions** are the *sentences* of the language. All programs do *something* and expressions are how you piece together syntax to tell your program what to do.\n",
    "\n",
    "\n",
    "## Expressions\n",
    "\n",
    "At their most basic level, expressions are the same as simple *mathematical expressions*. In this way, every programming language is just a fancy calculator.\n",
    "\n",
    "For example, to multiply two values together in Python, we use the `*` **operator**."
   ]
  },
  {
   "cell_type": "code",
   "execution_count": 1,
   "metadata": {},
   "outputs": [
    {
     "data": {
      "text/plain": [
       "6"
      ]
     },
     "execution_count": 1,
     "metadata": {},
     "output_type": "execute_result"
    }
   ],
   "source": [
    "2 * 3"
   ]
  },
  {
   "cell_type": "markdown",
   "metadata": {},
   "source": [
    "In this example, the **expression** `4*5` is *evaluated* by the Python interpreter, and the result `20` is returned and shown below the cell.\n",
    "\n",
    "Programming laguages have very specific grammatical rules. For example, in Python you cannot have the `*` operator twice in a row. Python will show a `SyntaxError`, meaning that we broke one of Python's grammatical rules."
   ]
  },
  {
   "cell_type": "code",
   "execution_count": 2,
   "metadata": {},
   "outputs": [
    {
     "ename": "SyntaxError",
     "evalue": "invalid syntax (<ipython-input-2-0f343c0fc354>, line 1)",
     "output_type": "error",
     "traceback": [
      "\u001b[0;36m  File \u001b[0;32m\"<ipython-input-2-0f343c0fc354>\"\u001b[0;36m, line \u001b[0;32m1\u001b[0m\n\u001b[0;31m    2 * * 3\u001b[0m\n\u001b[0m        ^\u001b[0m\n\u001b[0;31mSyntaxError\u001b[0m\u001b[0;31m:\u001b[0m invalid syntax\n"
     ]
    }
   ],
   "source": [
    "2 * * 3"
   ]
  },
  {
   "cell_type": "markdown",
   "metadata": {},
   "source": [
    "Syntax errors are common for beginners and advanced programmers alike. When you come across one, make sure to check your program for typos. Python will even tell you the line where it came across the error (`line 1` in our single line example above), so you know where to check your syntax.\n",
    "\n",
    "The rigid syntax of programming allows for small changes to an expression to give it a completely different meaning. For example, if we remove the space from the `* *`, we get the *exponentiation* operator, `**`. "
   ]
  },
  {
   "cell_type": "code",
   "execution_count": 3,
   "metadata": {},
   "outputs": [
    {
     "data": {
      "text/plain": [
       "8"
      ]
     },
     "execution_count": 3,
     "metadata": {},
     "output_type": "execute_result"
    }
   ],
   "source": [
    "2 ** 3"
   ]
  },
  {
   "cell_type": "markdown",
   "metadata": {},
   "source": [
    "## Arithmetic operators\n",
    "\n",
    "Since we work with a lot of (mainly numerical) data in science, mathematical operators are essential in just about every program you will write. In Python, these are the basic arimetic operators:\n",
    "\n",
    "| Expression Type | Operator | Example    | Value     |\n",
    "|-----------------|----------|------------|-----------|\n",
    "| Addition        | `+`      | `2 + 3`    | `5`       |\n",
    "| Subtraction     | `-`      | `2 - 3`    | `-1`      |\n",
    "| Multiplication  | `*`      | `2 * 3`    | `6`       |\n",
    "| Division        | `/`      | `7 / 3`    | `2.33334` |\n",
    "| Exponentiation  | `**`     | `2 ** 0.5` | `1.41421` |"
   ]
  },
  {
   "cell_type": "markdown",
   "metadata": {},
   "source": [
    "Python expressions obey the same *order of operations* (BEDMAS) as in algebra. In order Python will evaluate: \n",
    "\n",
    "- Brackets\n",
    "- Exponents\n",
    "- Multiplication and Division \n",
    "- Addition and Subtraction"
   ]
  },
  {
   "cell_type": "code",
   "execution_count": 4,
   "metadata": {},
   "outputs": [
    {
     "data": {
      "text/plain": [
       "7"
      ]
     },
     "execution_count": 4,
     "metadata": {},
     "output_type": "execute_result"
    }
   ],
   "source": [
    "1 + 2 * 3"
   ]
  },
  {
   "cell_type": "code",
   "execution_count": 5,
   "metadata": {},
   "outputs": [
    {
     "data": {
      "text/plain": [
       "9"
      ]
     },
     "execution_count": 5,
     "metadata": {},
     "output_type": "execute_result"
    }
   ],
   "source": [
    "(1 + 2) * 3"
   ]
  },
  {
   "cell_type": "markdown",
   "metadata": {},
   "source": [
    "### Integer Division and Remainders\n",
    "\n",
    "Python also has a special operator `//` to force division to return a whole number rather than producing a decimal. It also has a **modulo** operator which gives the remainer of an integer division. Then the three division operators are:\n",
    "\n",
    "| Expression Type  | Operator | Example    | Value     |\n",
    "|----------------- |----------|------------|-----------|\n",
    "| Division         | `/`      | `7 / 3`    | `2.33334` |\n",
    "| Integer Division | `//`     | `7 // 3`   | `2`       |\n",
    "| Remainder        | `%`      | `7 % 3`    | `1`       |\n"
   ]
  },
  {
   "cell_type": "markdown",
   "metadata": {},
   "source": [
    "## Equality\n",
    "\n",
    "A last basic operator we will mention here is the equality `==` operator. This operator is used to test if two *expressions* evaluate to the same value."
   ]
  },
  {
   "cell_type": "code",
   "execution_count": 6,
   "metadata": {},
   "outputs": [
    {
     "data": {
      "text/plain": [
       "True"
      ]
     },
     "execution_count": 6,
     "metadata": {},
     "output_type": "execute_result"
    }
   ],
   "source": [
    "2 * 2 == 4"
   ]
  },
  {
   "cell_type": "code",
   "execution_count": 7,
   "metadata": {},
   "outputs": [
    {
     "data": {
      "text/plain": [
       "False"
      ]
     },
     "execution_count": 7,
     "metadata": {},
     "output_type": "execute_result"
    }
   ],
   "source": [
    "2 == 3"
   ]
  },
  {
   "cell_type": "markdown",
   "metadata": {},
   "source": [
    "Try to make the following expression evaluate to `True`, changing only the operators (and/or adding parentheses) to the left side."
   ]
  },
  {
   "cell_type": "code",
   "execution_count": null,
   "metadata": {},
   "outputs": [],
   "source": [
    "1 + 2 + 3 + 4 == 16"
   ]
  },
  {
   "cell_type": "markdown",
   "metadata": {},
   "source": [
    "Now you know some basic operators in Python and how to string them into expressions. Remember that to learn a language you need to actively explore what you're learning and try new things. For example, what do you think happens when you divide by 0? Try it (and anything else you think of) in the code block below:"
   ]
  },
  {
   "cell_type": "code",
   "execution_count": null,
   "metadata": {},
   "outputs": [],
   "source": []
  }
 ],
 "metadata": {
  "anaconda-cloud": {},
  "kernelspec": {
   "display_name": "Python 3",
   "language": "python",
   "name": "python3"
  },
  "language_info": {
   "codemirror_mode": {
    "name": "ipython",
    "version": 3
   },
   "file_extension": ".py",
   "mimetype": "text/x-python",
   "name": "python",
   "nbconvert_exporter": "python",
   "pygments_lexer": "ipython3",
   "version": "3.7.3"
  }
 },
 "nbformat": 4,
 "nbformat_minor": 2
}
