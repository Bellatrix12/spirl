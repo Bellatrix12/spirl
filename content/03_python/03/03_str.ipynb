{
 "cells": [
  {
   "cell_type": "markdown",
   "metadata": {},
   "source": [
    "## Strings\n",
    "In Python, the **string** is used to store text. Strings can be created with either single quotes `''` or double quotes `\"\"`. Although both work, it is good practice to choose one or the other and stick with it for consistency."
   ]
  },
  {
   "cell_type": "markdown",
   "metadata": {},
   "source": [
    "### Indexing\n",
    "A particular **character** in a string can be accessed by its **index**. Python uses the square brackets `[]` to denote indices.\n",
    "\n",
    "**Note**: Some languages start indexing at 0, and some start at 1. In Python, **indexing starts at 0**.\n",
    "\n",
    "Python also allows you to use **negative indices** to access characters from the end of the string. The forward and backwards indices are summarized in image below:\n",
    "\n",
    "![indexing](../../images/indexing.png)\n",
    "\n",
    "For example:"
   ]
  },
  {
   "cell_type": "code",
   "execution_count": 9,
   "metadata": {},
   "outputs": [
    {
     "name": "stdout",
     "output_type": "stream",
     "text": [
      "e\n",
      "d\n"
     ]
    }
   ],
   "source": [
    "mystring = 'Hello World'\n",
    "\n",
    "#Get the 2nd character in the string\n",
    "print(mystring[1])\n",
    "\n",
    "#Get the last character\n",
    "print(mystring[-1])"
   ]
  },
  {
   "cell_type": "markdown",
   "metadata": {},
   "source": [
    "### Slicing\n",
    "You can also extract a range of characters from a string by taking a **slice**. Slicing in Python is again done with square brackets, but this time we need to provide a start index, a stop index, and a colon `string[start:stop]`.\n",
    "\n",
    "**Note**: The stop index in Python is *one higher than the last character you want to slice*. E.g. if you sliced from 0 to 3, you would get the 0th, 1st, and 2nd characters (`'Hello[0:3] == 'Hel'`). The character at index 3 is not included!\n",
    "\n",
    "If you do not provide a start index, Python assumes you want all characters from the beginning of the string to the stop index (`'Hello'[:3] == 'Hel'`). \n",
    "\n",
    "Likewise, if you do not provide a stop index, Python assumes you want all characters from the start index to the end of the string (`'Hello[2:] == 'llo'`).\n",
    "\n",
    "What do you think the slice `'Hello'[:]` produces? Try it and see if you were right.\n",
    "\n",
    "Also try indexing the string to get various letter combinations."
   ]
  },
  {
   "cell_type": "code",
   "execution_count": null,
   "metadata": {},
   "outputs": [],
   "source": [
    "'Hello'[:]"
   ]
  }
 ],
 "metadata": {
  "kernelspec": {
   "display_name": "Python 3",
   "language": "python",
   "name": "python3"
  },
  "language_info": {
   "codemirror_mode": {
    "name": "ipython",
    "version": 3
   },
   "file_extension": ".py",
   "mimetype": "text/x-python",
   "name": "python",
   "nbconvert_exporter": "python",
   "pygments_lexer": "ipython3",
   "version": "3.7.3"
  },
  "toc": {
   "nav_menu": {},
   "number_sections": true,
   "sideBar": true,
   "skip_h1_title": false,
   "title_cell": "Table of Contents",
   "title_sidebar": "Contents",
   "toc_cell": false,
   "toc_position": {},
   "toc_section_display": true,
   "toc_window_display": false
  },
  "varInspector": {
   "cols": {
    "lenName": 16,
    "lenType": 16,
    "lenVar": 40
   },
   "kernels_config": {
    "python": {
     "delete_cmd_postfix": "",
     "delete_cmd_prefix": "del ",
     "library": "var_list.py",
     "varRefreshCmd": "print(var_dic_list())"
    },
    "r": {
     "delete_cmd_postfix": ") ",
     "delete_cmd_prefix": "rm(",
     "library": "var_list.r",
     "varRefreshCmd": "cat(var_dic_list()) "
    }
   },
   "types_to_exclude": [
    "module",
    "function",
    "builtin_function_or_method",
    "instance",
    "_Feature"
   ],
   "window_display": false
  }
 },
 "nbformat": 4,
 "nbformat_minor": 2
}
