{
 "cells": [
  {
   "cell_type": "markdown",
   "metadata": {},
   "source": [
    "# The Zen of Python\n",
    "\n",
    "This poem by Tim Peters is a great summation of the central ideas behind Python, as well as what makes for properly styled, _pythonic_ code. It is so revered that it has been included in every distribution of Python since 2004 (see [PEP20](https://www.python.org/dev/peps/pep-0020/)) with the explanation:\n",
    "\n",
    "\n",
    "    Long time Pythoneer Tim Peters succinctly channels the \n",
    "    BDFL's guiding principles for Python's design into \n",
    "    20 aphorisms, only 19 of which have been written down.\n",
    "\n",
    "*Note*: BDFL is short for *Benevolent Dictator for Life*, affectionate nickname of Guido van Rossum, creator of Python\n",
    "\n",
    "## Import this\n",
    "\n",
    "You can print *The Zen of Python* to the screen if you type `import this` in any Python prompt."
   ]
  },
  {
   "cell_type": "code",
   "execution_count": 1,
   "metadata": {},
   "outputs": [
    {
     "name": "stdout",
     "output_type": "stream",
     "text": [
      "The Zen of Python, by Tim Peters\n",
      "\n",
      "Beautiful is better than ugly.\n",
      "Explicit is better than implicit.\n",
      "Simple is better than complex.\n",
      "Complex is better than complicated.\n",
      "Flat is better than nested.\n",
      "Sparse is better than dense.\n",
      "Readability counts.\n",
      "Special cases aren't special enough to break the rules.\n",
      "Although practicality beats purity.\n",
      "Errors should never pass silently.\n",
      "Unless explicitly silenced.\n",
      "In the face of ambiguity, refuse the temptation to guess.\n",
      "There should be one-- and preferably only one --obvious way to do it.\n",
      "Although that way may not be obvious at first unless you're Dutch.\n",
      "Now is better than never.\n",
      "Although never is often better than *right* now.\n",
      "If the implementation is hard to explain, it's a bad idea.\n",
      "If the implementation is easy to explain, it may be a good idea.\n",
      "Namespaces are one honking great idea -- let's do more of those!\n"
     ]
    }
   ],
   "source": [
    "import this"
   ]
  },
  {
   "cell_type": "markdown",
   "metadata": {},
   "source": [
    "Some aphorisms in this poem cover more advanced concepts than we will cover in this book, but we start with it beacuse it is a great resource to refer back to at various parts of your journey learning to code in Python.\n",
    "\n",
    "Also, if you ever need some *Zen* after a long day of wrestling with code, now you know you can always `import this`."
   ]
  }
 ],
 "metadata": {
  "kernelspec": {
   "display_name": "Python [conda env:enthalpy-dev] *",
   "language": "python",
   "name": "conda-env-enthalpy-dev-py"
  },
  "language_info": {
   "codemirror_mode": {
    "name": "ipython",
    "version": 3
   },
   "file_extension": ".py",
   "mimetype": "text/x-python",
   "name": "python",
   "nbconvert_exporter": "python",
   "pygments_lexer": "ipython3",
   "version": "3.7.3"
  }
 },
 "nbformat": 4,
 "nbformat_minor": 2
}
