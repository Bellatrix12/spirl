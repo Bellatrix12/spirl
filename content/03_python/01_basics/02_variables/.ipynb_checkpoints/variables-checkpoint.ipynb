{
 "cells": [
  {
   "cell_type": "markdown",
   "metadata": {},
   "source": [
    "## Variables\n",
    "\n",
    "So far, the expressions we have seen have all been evaluated on one line, with the result shown right away. Often we want to store the result of an expression to use later. We can store the result of an expression in a **variable**. \n",
    "\n",
    "A variable is created in Python with an **assignment** statement involving the `=` sign (not to be confused with the equality operator `==`)."
   ]
  },
  {
   "cell_type": "code",
   "execution_count": 1,
   "metadata": {},
   "outputs": [],
   "source": [
    "a = 10"
   ]
  },
  {
   "cell_type": "markdown",
   "metadata": {},
   "source": [
    "Here, the variable `a` was *assigned* the value `10`. Now, if we use `a` in future, it will refer to the value we stored in it."
   ]
  },
  {
   "cell_type": "code",
   "execution_count": 2,
   "metadata": {},
   "outputs": [
    {
     "name": "stdout",
     "output_type": "stream",
     "text": [
      "10\n"
     ]
    }
   ],
   "source": [
    "print(a)"
   ]
  },
  {
   "cell_type": "markdown",
   "metadata": {},
   "source": [
    "You can use your newly minted variables in expressions too!"
   ]
  },
  {
   "cell_type": "code",
   "execution_count": 3,
   "metadata": {},
   "outputs": [
    {
     "name": "stdout",
     "output_type": "stream",
     "text": [
      "22\n"
     ]
    }
   ],
   "source": [
    "b = 12 + a\n",
    "print(b)"
   ]
  },
  {
   "cell_type": "markdown",
   "metadata": {},
   "source": [
    "Variables can be re-assigned at will, but be careful - there's no undo on assignment statements!"
   ]
  },
  {
   "cell_type": "code",
   "execution_count": 4,
   "metadata": {},
   "outputs": [
    {
     "name": "stdout",
     "output_type": "stream",
     "text": [
      "5\n"
     ]
    }
   ],
   "source": [
    "c = 1\n",
    "c = 5\n",
    "print(c)"
   ]
  },
  {
   "cell_type": "markdown",
   "metadata": {},
   "source": [
    "## Allowed variable names\n",
    "\n",
    "There are a couple rules for naming variables in Python. They must:\n",
    "\n",
    "- begin with a letter (though they can contain letters and numbers)\n",
    "- cannot use spaces (often spaces are replaced with `_` underscores)\n",
    "- cannot contain special characters"
   ]
  },
  {
   "cell_type": "code",
   "execution_count": 5,
   "metadata": {},
   "outputs": [
    {
     "ename": "SyntaxError",
     "evalue": "invalid syntax (<ipython-input-5-d85f68312c1b>, line 3)",
     "output_type": "error",
     "traceback": [
      "\u001b[0;36m  File \u001b[0;32m\"<ipython-input-5-d85f68312c1b>\"\u001b[0;36m, line \u001b[0;32m3\u001b[0m\n\u001b[0;31m    ch$1 = 17\u001b[0m\n\u001b[0m      ^\u001b[0m\n\u001b[0;31mSyntaxError\u001b[0m\u001b[0;31m:\u001b[0m invalid syntax\n"
     ]
    }
   ],
   "source": [
    "a2 = 2\n",
    "b_0_e = 3\n",
    "ch$1 = 17"
   ]
  },
  {
   "cell_type": "markdown",
   "metadata": {},
   "source": [
    "## Naming conventions\n",
    "\n",
    "Although variable names like `i_1_1i_III` are technically *allowed* in Python, they may not be that *useful*. When writing code, we want to be as **expressive** as possible so that it is legible later. For example, if our variable is used to track the number of apples we have, a good name could be `apples`, or perhaps `num_apples`. \n",
    "\n",
    "\n",
    "PEP8 also gives some stylistic guidelines for naming variables in Python.\n",
    "\n",
    "> [Variable] names should be lowercase, with words separated by underscores as necessary to improve readability\n",
    "\n",
    "This is slightly different to other languages that prefer the use of `mixedCase` variable names."
   ]
  },
  {
   "cell_type": "code",
   "execution_count": null,
   "metadata": {},
   "outputs": [],
   "source": [
    "doNotNameVariableLikeThis = 0\n",
    "use_underscores_instead = 1"
   ]
  },
  {
   "cell_type": "markdown",
   "metadata": {},
   "source": [
    "## Possible pitfalls\n",
    "\n",
    "In Python, expressions are *evaluated* as soon as you assign them to a variable. That means that future updates to a variable won't change any other variables defined in reference to it. \n",
    "\n",
    "For example, what do you think will happen when you run the following code? Try it!"
   ]
  },
  {
   "cell_type": "code",
   "execution_count": null,
   "metadata": {},
   "outputs": [],
   "source": [
    "apples = 4\n",
    "oranges = 3\n",
    "total_fruit = apples + oranges\n",
    "apples = 8\n",
    "oranges = 11\n",
    "print(total_fruit)"
   ]
  },
  {
   "cell_type": "markdown",
   "metadata": {},
   "source": [
    "### Protected names\n",
    "\n",
    "In Python, there are a few variable and function names that are used by the language and shouldn't be used as variable names. For example, if you want to count the number of times your publication has been printed, you may be inclined to use the variable name `print`. But `print` is the name of a built-in function in Python. What do you think will happen if you run the following?"
   ]
  },
  {
   "cell_type": "code",
   "execution_count": 8,
   "metadata": {},
   "outputs": [
    {
     "data": {
      "text/plain": [
       "14"
      ]
     },
     "execution_count": 8,
     "metadata": {},
     "output_type": "execute_result"
    }
   ],
   "source": [
    "print = 2 + 3 + 4 + 5\n",
    "print"
   ]
  },
  {
   "cell_type": "markdown",
   "metadata": {},
   "source": [
    "Python allows you to use the variable name `print`, but this could be disasterous later when you try to use the `print` function because now you've redefined it!"
   ]
  },
  {
   "cell_type": "code",
   "execution_count": 10,
   "metadata": {},
   "outputs": [
    {
     "ename": "TypeError",
     "evalue": "'int' object is not callable",
     "output_type": "error",
     "traceback": [
      "\u001b[0;31m---------------------------------------------------------------------------\u001b[0m",
      "\u001b[0;31mTypeError\u001b[0m                                 Traceback (most recent call last)",
      "\u001b[0;32m<ipython-input-10-520716ea4f3c>\u001b[0m in \u001b[0;36m<module>\u001b[0;34m\u001b[0m\n\u001b[0;32m----> 1\u001b[0;31m \u001b[0mprint\u001b[0m\u001b[0;34m(\u001b[0m\u001b[0;36m1\u001b[0m \u001b[0;34m+\u001b[0m \u001b[0;36m2\u001b[0m\u001b[0;34m)\u001b[0m\u001b[0;34m\u001b[0m\u001b[0;34m\u001b[0m\u001b[0m\n\u001b[0m",
      "\u001b[0;31mTypeError\u001b[0m: 'int' object is not callable"
     ]
    }
   ],
   "source": [
    "print(1 + 2)"
   ]
  },
  {
   "cell_type": "markdown",
   "metadata": {},
   "source": [
    "Most code editors help avoid mistakes like this by highlighting laguage-specific protected names like so:"
   ]
  },
  {
   "cell_type": "code",
   "execution_count": null,
   "metadata": {},
   "outputs": [],
   "source": [
    "print\n",
    "type\n",
    "help\n",
    "int\n",
    "enumerate"
   ]
  },
  {
   "cell_type": "markdown",
   "metadata": {},
   "source": [
    "Code editors will not highlight your defined names thouhgh, so make sure to use decriptive names to reduce chances of accidentally overwriting your `a` or `tmp` variables!\n",
    "\n",
    "Next we will learn about *call statements* like `print()`."
   ]
  }
 ],
 "metadata": {
  "anaconda-cloud": {},
  "kernelspec": {
   "display_name": "Python 3",
   "language": "python",
   "name": "python3"
  },
  "language_info": {
   "codemirror_mode": {
    "name": "ipython",
    "version": 3
   },
   "file_extension": ".py",
   "mimetype": "text/x-python",
   "name": "python",
   "nbconvert_exporter": "python",
   "pygments_lexer": "ipython3",
   "version": "3.7.3"
  }
 },
 "nbformat": 4,
 "nbformat_minor": 2
}
